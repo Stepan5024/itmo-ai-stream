{
 "cells": [
  {
   "cell_type": "code",
   "execution_count": null,
   "metadata": {},
   "outputs": [
    {
     "name": "stderr",
     "output_type": "stream",
     "text": [
      "C:\\Users\\bokar\\AppData\\Local\\Temp\\ipykernel_11328\\134851830.py:7: DtypeWarning: Columns (0) have mixed types. Specify dtype option on import or set low_memory=False.\n",
      "  df = pd.read_csv('final_combined_toxicity_data_updated.csv')\n"
     ]
    },
    {
     "name": "stdout",
     "output_type": "stream",
     "text": [
      "Определение языка для комментариев...\n"
     ]
    }
   ],
   "source": [
    "import pandas as pd\n",
    "from langdetect import detect, LangDetectException\n",
    "from multiprocessing import Pool, cpu_count\n",
    "import matplotlib.pyplot as plt\n",
    "\n",
    "# Загрузка данных\n",
    "df = pd.read_csv('final_combined_toxicity_data_updated.csv')\n",
    "\n",
    "# Случайный выбор 100  строк\n",
    "df_sample = df.sample(n=100, random_state=42)\n",
    "\n",
    "# Функция для определения языка\n",
    "def detect_language(text):\n",
    "    try:\n",
    "        return detect(text)\n",
    "    except LangDetectException:\n",
    "        return \"unknown\"\n",
    "\n",
    "# Параллельная обработка\n",
    "def parallel_detect_language(texts):\n",
    "    with Pool(cpu_count()) as pool:\n",
    "        results = pool.map(detect_language, texts)\n",
    "    return results\n",
    "\n",
    "# Применяем функцию к столбцу comment_text (по частям, чтобы не перегружать память)\n",
    "print(\"Определение языка для комментариев...\")\n",
    "chunk_size = 10  # Размер части данных для обработки\n",
    "languages = []\n",
    "for i in range(0, len(df_sample), chunk_size):\n",
    "    chunk = df_sample['comment_text'].iloc[i:i + chunk_size]\n",
    "    languages.extend(parallel_detect_language(chunk))\n",
    "    print(f\"Обработано {i + chunk_size} строк из {len(df_sample)}\")\n",
    "\n",
    "df_sample['language'] = languages\n",
    "\n",
    "# 1. Распределение языков\n",
    "language_distribution = df_sample['language'].value_counts()\n",
    "print(\"\\nРаспределение языков:\")\n",
    "print(language_distribution)\n",
    "\n",
    "# 2. Топ-10 языков\n",
    "top_languages = language_distribution.head(10)\n",
    "print(\"\\nТоп-10 языков:\")\n",
    "print(top_languages)\n",
    "\n",
    "# 3. Анализ токсичности по языкам\n",
    "toxic_by_language = df_sample.groupby('language')[['toxic', 'severe_toxic', 'obscene', 'threat', 'insult', 'identity_hate']].mean()\n",
    "print(\"\\nСредние значения меток токсичности по языкам:\")\n",
    "print(toxic_by_language)\n",
    "\n",
    "# 4. Визуализация распределения языков\n",
    "plt.figure(figsize=(10, 6))\n",
    "top_languages.plot(kind='bar', color='skyblue')\n",
    "plt.title('Топ-10 языков комментариев')\n",
    "plt.xlabel('Язык')\n",
    "plt.ylabel('Количество комментариев')\n",
    "plt.show()\n",
    "\n",
    "# 5. Визуализация токсичности по языкам\n",
    "plt.figure(figsize=(10, 6))\n",
    "toxic_by_language['toxic'].sort_values(ascending=False).head(10).plot(kind='bar', color='orange')\n",
    "plt.title('Топ-10 языков по доле токсичных комментариев')\n",
    "plt.xlabel('Язык')\n",
    "plt.ylabel('Доля токсичных комментариев')\n",
    "plt.show()"
   ]
  }
 ],
 "metadata": {
  "kernelspec": {
   "display_name": "myenv",
   "language": "python",
   "name": "python3"
  },
  "language_info": {
   "codemirror_mode": {
    "name": "ipython",
    "version": 3
   },
   "file_extension": ".py",
   "mimetype": "text/x-python",
   "name": "python",
   "nbconvert_exporter": "python",
   "pygments_lexer": "ipython3",
   "version": "3.12.6"
  }
 },
 "nbformat": 4,
 "nbformat_minor": 2
}
